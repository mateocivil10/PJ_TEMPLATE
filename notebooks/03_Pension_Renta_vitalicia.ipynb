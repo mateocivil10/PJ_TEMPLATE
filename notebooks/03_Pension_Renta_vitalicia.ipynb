{
 "cells": [
  {
   "cell_type": "code",
   "execution_count": 1,
   "id": "1ed6fea2-3a30-49eb-9de4-c5a0a8aefaa4",
   "metadata": {},
   "outputs": [
    {
     "name": "stderr",
     "output_type": "stream",
     "text": [
      "C:\\Users\\mateo\\AppData\\Local\\Temp\\ipykernel_9072\\731531111.py:1: DeprecationWarning: \n",
      "Pyarrow will become a required dependency of pandas in the next major release of pandas (pandas 3.0),\n",
      "(to allow more performant data types, such as the Arrow string type, and better interoperability with other libraries)\n",
      "but was not found to be installed on your system.\n",
      "If this would cause problems for you,\n",
      "please provide us feedback at https://github.com/pandas-dev/pandas/issues/54466\n",
      "        \n",
      "  import pandas as pd\n"
     ]
    }
   ],
   "source": [
    "import pandas as pd\n",
    "import numpy as np\n",
    "import sys\n",
    "import os\n",
    "# Agregar la carpeta 'src' al sistema de rutas\n",
    "sys.path.append(os.path.abspath('../src'))\n",
    "# Ahora puedes importar el archivo o los módulos\n",
    "from Tablas_mortalidad import *"
   ]
  },
  {
   "cell_type": "code",
   "execution_count": 2,
   "id": "dc582f55-6c08-485d-bd82-416cbd82f53d",
   "metadata": {},
   "outputs": [],
   "source": [
    "ruta_m=r'../src/TM_mujeres.xlsx'\n",
    "ruta_h=r'../src/TM_hombres.xlsx'\n",
    "Tmort_m=pd.read_excel(ruta_m)\n",
    "Tmort_h=pd.read_excel(ruta_h)"
   ]
  },
  {
   "cell_type": "code",
   "execution_count": 3,
   "id": "06a52a59-08c1-4a04-a96b-64048df9868a",
   "metadata": {},
   "outputs": [],
   "source": [
    "T_hombre=TMensual(Tmort_h)\n",
    "T_mujer=TMensual(Tmort_m)"
   ]
  },
  {
   "cell_type": "code",
   "execution_count": null,
   "id": "3e5bc8e5-d19e-492f-bc57-f7cd3d1ee930",
   "metadata": {},
   "outputs": [],
   "source": [
    "#Datos\n",
    "edad_x=30\n",
    "sexo='H'\n",
    "paga=0.04 #el 12% restante lo aporta el empleador\n",
    "salario=7000000\n",
    "Acumulado=96000000\n",
    "edad_jubilacion=62\n",
    "tasa_anual=0.04"
   ]
  },
  {
   "cell_type": "code",
   "execution_count": null,
   "id": "77b34324-6929-4eac-80e8-929445aa910a",
   "metadata": {},
   "outputs": [],
   "source": [
    "#calcule el ahorro total a los 62 años"
   ]
  },
  {
   "cell_type": "code",
   "execution_count": null,
   "id": "15a1830c-b66d-47a2-937a-81de6797da22",
   "metadata": {},
   "outputs": [],
   "source": []
  },
  {
   "cell_type": "code",
   "execution_count": null,
   "id": "baf9cc7f-a1f3-4872-8818-cf823862e28a",
   "metadata": {},
   "outputs": [],
   "source": [
    "# calcule la renta vitalicia luego de la jubilaci{on a partir del ahorro"
   ]
  }
 ],
 "metadata": {
  "kernelspec": {
   "display_name": "Python 3 (ipykernel)",
   "language": "python",
   "name": "python3"
  },
  "language_info": {
   "codemirror_mode": {
    "name": "ipython",
    "version": 3
   },
   "file_extension": ".py",
   "mimetype": "text/x-python",
   "name": "python",
   "nbconvert_exporter": "python",
   "pygments_lexer": "ipython3",
   "version": "3.9.20"
  }
 },
 "nbformat": 4,
 "nbformat_minor": 5
}
